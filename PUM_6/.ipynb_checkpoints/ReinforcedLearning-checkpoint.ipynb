{
 "cells": [
  {
   "cell_type": "code",
   "execution_count": 1,
   "metadata": {},
   "outputs": [],
   "source": [
    "import numpy as np\n",
    "import matplotlib.pyplot as plt\n",
    "import imageio\n",
    "import random"
   ]
  },
  {
   "cell_type": "code",
   "execution_count": 2,
   "metadata": {},
   "outputs": [],
   "source": [
    "import time, sys\n",
    "from IPython.display import clear_output\n",
    "\n",
    "def update_progress(progress):\n",
    "    bar_length = 20\n",
    "    if isinstance(progress, int):\n",
    "        progress = float(progress)\n",
    "    if not isinstance(progress, float):\n",
    "        progress = 0\n",
    "    if progress < 0:\n",
    "        progress = 0\n",
    "    if progress >= 1:\n",
    "        progress = 1\n",
    "\n",
    "    block = int(round(bar_length * progress))\n",
    "\n",
    "    clear_output(wait = True)\n",
    "    text = \"Progress: [{0}] {1:.1f}%\".format( \"#\" * block + \"-\" * (bar_length - block), progress * 100)\n",
    "    print(text)"
   ]
  },
  {
   "cell_type": "code",
   "execution_count": 3,
   "metadata": {},
   "outputs": [],
   "source": [
    "def unify(board):\n",
    "    b= np.copy(board)\n",
    "    b[board == 96] = 5\n",
    "    b[board == 117] = 1\n",
    "    b[board == 158] = 2\n",
    "    b[board == 185] = 3\n",
    "    b[board == 255] = 4\n",
    "    return b"
   ]
  },
  {
   "cell_type": "code",
   "execution_count": 4,
   "metadata": {},
   "outputs": [],
   "source": [
    "class Env:\n",
    "    def __init__(self,name):\n",
    "        maze = imageio.imread('maze.png',pilmode='L')\n",
    "        maze_with_acid = imageio.imread('maze_with_acid.png',pilmode='L')\n",
    "        maze_with_acid_with_door = imageio.imread('maze_with_acid_with_door.png',pilmode='L')\n",
    "        \n",
    "        maze = unify(maze)\n",
    "        maze_with_acid = unify(maze_with_acid)\n",
    "        maze_with_acid_with_door = unify(maze_with_acid_with_door)\n",
    "        \n",
    "        self.door = False\n",
    "        if name is 'normal':\n",
    "            self.default_board = np.copy(maze)\n",
    "            self.board = np.copy(maze)\n",
    "        elif name is 'acid':\n",
    "            self.default_board = np.copy(maze_with_acid)\n",
    "            self.board = np.copy(maze_with_acid)\n",
    "        elif name is 'door':\n",
    "            self.door = True\n",
    "            self.default_board = np.copy(maze_with_acid_with_door)\n",
    "            self.board = np.copy(maze_with_acid_with_door)\n",
    "        else:\n",
    "            raise Exception('invalid env') \n",
    "            \n",
    "            \n",
    "        android_cords = np.where(self.board == 1)\n",
    "        android_cords = (android_cords[0][0],android_cords[1][0])\n",
    "        android_cords\n",
    "        \n",
    "        start_cords = np.where(self.board == 2)\n",
    "        start_cords = (start_cords[0][0],start_cords[1][0])\n",
    "        start_cords\n",
    "            \n",
    "        self.door_key_not_used = True\n",
    "        self.target = np.array(android_cords)\n",
    "        if self.door:\n",
    "            self.state_start = np.array((*start_cords,0))\n",
    "            self.state = np.array((*start_cords,0))\n",
    "        else:\n",
    "            self.state_start = np.array(start_cords)\n",
    "            self.state = np.array(start_cords)\n",
    "        \n",
    "        if self.door:\n",
    "            self.action_space = 5\n",
    "        else:\n",
    "            self.action_space = 4\n",
    "            \n",
    "        if self.door:\n",
    "            self.observation_space = (*self.board.shape,2)\n",
    "        else:\n",
    "            self.observation_space = self.board.shape\n",
    "        \n",
    "        # 0 => up 1 => right 2 => down 3 => left 4 => use key\n",
    "        if self.door:\n",
    "            self.__move_fun = {0:np.array((0,1,0)),1:np.array((1,0,0)),2:np.array((0,-1,0)),3:np.array((-1,0,0)),4:np.array((0,0,1))}\n",
    "        else:\n",
    "            self.__move_fun = {0:np.array((0,1)),1:np.array((1,0)),2:np.array((0,-1)),3:np.array((-1,0)),4:np.array((0,0))}\n",
    "        \n",
    "    \n",
    "    def reset(self):\n",
    "        self.board = np.copy(self.default_board)\n",
    "        self.state = self.state_start\n",
    "        return tuple(self.state)\n",
    "    \n",
    "        \n",
    "    def step(self,action):\n",
    "        done = False\n",
    "        reward = -1\n",
    "        new_state = self.state + self.__move_fun[action]\n",
    "        s = tuple(new_state[:2])\n",
    "        if self.board[s] == 0 or self.board[s] == 5:\n",
    "            new_state = self.state\n",
    "        elif self.board[s] == 1:\n",
    "            done = True\n",
    "            reward = 500\n",
    "        elif self.board[s] == 3:\n",
    "            done = True\n",
    "            reward = -500\n",
    "            \n",
    "        if action == 4 and self.door_key_not_used and self.door:\n",
    "            state_area = self.board[(s[0]-5):(s[0]+5),(s[1]-5):(s[1]+5)]\n",
    "            state_area[state_area == 5] = 4 #florify\n",
    "            reward = 0\n",
    "            new_state[-1] = 1\n",
    "            self.door_key_not_used = False\n",
    "            \n",
    "        self.state = new_state\n",
    "            \n",
    "        return tuple(new_state), reward, done\n",
    "        \n",
    "    def sample(self):\n",
    "        if self.door_key_not_used and self.door:\n",
    "            mod = -1\n",
    "        else:\n",
    "            mod = -2\n",
    "        return random.randint(0,self.action_space + mod)\n",
    "    \n"
   ]
  },
  {
   "cell_type": "code",
   "execution_count": 5,
   "metadata": {
    "scrolled": true
   },
   "outputs": [],
   "source": [
    "def train_agent_Q(env,props,door=False):\n",
    "    rewards = []\n",
    "    rewards_sum = []\n",
    "    action_size = env.action_space\n",
    "    state_size = env.observation_space\n",
    "    qtable = np.zeros((*state_size, action_size))\n",
    "    \n",
    "    total_episodes = props['total_episodes']\n",
    "    learning_rate = props['learning_rate']\n",
    "    max_steps = props['max_steps']\n",
    "    gamma = props['gamma']\n",
    "    epsilon = props['epsilon']\n",
    "    max_epsilon = props['max_epsilon']\n",
    "    min_epsilon = props['min_epsilon']\n",
    "    decay_rate = props['decay_rate']\n",
    "        \n",
    "    for episode in range(total_episodes):\n",
    "        \n",
    "        update_progress(episode/total_episodes)\n",
    "        state = env.reset()\n",
    "        step = 0\n",
    "        done = False\n",
    "        total_rewards = 0\n",
    "        key_used = False\n",
    "\n",
    "        for step in range(max_steps):\n",
    "            exp_exp_tradeoff = random.uniform(0, 1)\n",
    "            if exp_exp_tradeoff > epsilon:\n",
    "                if key_used:\n",
    "                    action = np.argmax(qtable[state][:4])\n",
    "                else:\n",
    "                    action = np.argmax(qtable[state])\n",
    "            else:\n",
    "                action = env.sample()\n",
    "\n",
    "            if action == 4:\n",
    "                key_used = True\n",
    "\n",
    "            new_state, reward, done = env.step(action)\n",
    "            qtable[state][action] = qtable[state][action] + learning_rate * (reward + gamma * np.max(qtable[new_state]) - qtable[state][action])\n",
    "\n",
    "            total_rewards += reward\n",
    "            state = new_state\n",
    "            \n",
    "            if done == True: \n",
    "                break\n",
    "\n",
    "        epsilon = min_epsilon + (max_epsilon - min_epsilon)*np.exp(-decay_rate*episode) \n",
    "        rewards.append(total_rewards)\n",
    "        rewards_sum.append(sum(rewards)/(episode+1))\n",
    "    return rewards,rewards_sum,qtable"
   ]
  },
  {
   "cell_type": "code",
   "execution_count": 6,
   "metadata": {},
   "outputs": [],
   "source": [
    "def move_agent_Q(env,props,n,table=None):\n",
    "    action_size = env.action_space\n",
    "    state_size = env.observation_space\n",
    "    qtable = np.zeros((*state_size, action_size)) if table is None else table\n",
    "    prob = np.zeros(state_size)\n",
    "    epsilon = props['min_epsilon'] if table is not None else props['max_epsilon']\n",
    "    max_steps=props['max_steps']\n",
    "    for episode in range(n):\n",
    "        update_progress(episode/n)\n",
    "        state = env.reset()\n",
    "        step = 0\n",
    "        done = False\n",
    "        total_rewards = 0\n",
    "        key_used = False\n",
    "\n",
    "        for step in range(max_steps):\n",
    "            exp_exp_tradeoff = random.uniform(0, 1)\n",
    "            if exp_exp_tradeoff > epsilon:\n",
    "                if key_used:\n",
    "                    action = np.argmax(qtable[state][:4])\n",
    "                else:\n",
    "                    action = np.argmax(qtable[state])\n",
    "            else:\n",
    "                action = env.sample()\n",
    "\n",
    "            if action == 4:\n",
    "                key_used = True\n",
    "                \n",
    "            new_state, _, done = env.step(action)\n",
    "            prob[state] += 1\n",
    "            state = new_state\n",
    "            if done == True: \n",
    "                break\n",
    "                \n",
    "    return prob/n"
   ]
  },
  {
   "cell_type": "code",
   "execution_count": 7,
   "metadata": {},
   "outputs": [],
   "source": [
    "def train_agent_Sarsa(env,props,door=False):\n",
    "    rewards = []\n",
    "    rewards_sum = []\n",
    "    action_size = env.action_space\n",
    "    state_size = env.observation_space\n",
    "    qtable = np.zeros((*state_size, action_size))\n",
    "    \n",
    "    total_episodes = props['total_episodes']\n",
    "    learning_rate = props['learning_rate']\n",
    "    max_steps = props['max_steps']\n",
    "    gamma = props['gamma']\n",
    "    epsilon = props['epsilon']\n",
    "    max_epsilon = props['max_epsilon']\n",
    "    min_epsilon = props['min_epsilon']\n",
    "    decay_rate = props['decay_rate']\n",
    "        \n",
    "    for episode in range(total_episodes):\n",
    "        \n",
    "        update_progress(episode/total_episodes)\n",
    "        state = env.reset()\n",
    "        step = 0\n",
    "        done = False\n",
    "        total_rewards = 0\n",
    "        key_used = False\n",
    "        \n",
    "        exp_exp_tradeoff = random.uniform(0, 1)\n",
    "        if exp_exp_tradeoff > epsilon:\n",
    "            if key_used:\n",
    "                action = np.argmax(qtable[new_state][:4])\n",
    "            else:\n",
    "                action = np.argmax(qtable[new_state])\n",
    "        else:\n",
    "            action = env.sample()\n",
    "\n",
    "        for step in range(max_steps):\n",
    "            if action == 4:\n",
    "                key_used = True\n",
    "\n",
    "            new_state, reward, done = env.step(action)\n",
    "\n",
    "            exp_exp_tradeoff = random.uniform(0, 1)\n",
    "            if exp_exp_tradeoff > epsilon:\n",
    "                if key_used:\n",
    "                    action_2 = np.argmax(qtable[new_state][:4])\n",
    "                else:\n",
    "                    action_2 = np.argmax(qtable[new_state])\n",
    "            else:\n",
    "                action_2 = env.sample()\n",
    "\n",
    "            qtable[state][action] = qtable[state][action] + learning_rate * (reward + gamma * qtable[new_state][action_2] - qtable[state][action])\n",
    "\n",
    "            total_rewards += reward\n",
    "            state = new_state\n",
    "            action=action_2\n",
    "            \n",
    "            if done == True: \n",
    "                break\n",
    "\n",
    "        epsilon = min_epsilon + (max_epsilon - min_epsilon)*np.exp(-decay_rate*episode) \n",
    "        rewards.append(total_rewards)\n",
    "        rewards_sum.append(sum(rewards)/(episode+1))\n",
    "    return rewards,rewards_sum,qtable"
   ]
  },
  {
   "cell_type": "code",
   "execution_count": 8,
   "metadata": {},
   "outputs": [],
   "source": [
    "def move_agent_sarsa(env,props,n,table=None):\n",
    "    action_size = env.action_space\n",
    "    state_size = env.observation_space\n",
    "    qtable = np.zeros((*state_size, action_size)) if table is None else table\n",
    "    prob = np.zeros(state_size)\n",
    "    epsilon = props['min_epsilon'] if table is not None else props['max_epsilon']\n",
    "    max_steps=props['max_steps']\n",
    "    exp_exp_tradeoff = random.uniform(0, 1)\n",
    "    key_used = False\n",
    "    if exp_exp_tradeoff > epsilon:\n",
    "        if key_used:\n",
    "            action = np.argmax(qtable[state][:4])\n",
    "        else:\n",
    "            action = np.argmax(qtable[state])\n",
    "    else:\n",
    "        action = env.sample()\n",
    "    for episode in range(n):\n",
    "        update_progress(episode/n)\n",
    "        state = env.reset()\n",
    "        step = 0\n",
    "        done = False\n",
    "        total_rewards = 0\n",
    "        key_used = False\n",
    "\n",
    "        for step in range(max_steps):\n",
    "            new_state, _, done = env.step(action)\n",
    "            exp_exp_tradeoff = random.uniform(0, 1)\n",
    "            if exp_exp_tradeoff > epsilon:\n",
    "                if key_used:\n",
    "                    action_2 = np.argmax(qtable[new_state][:4])\n",
    "                else:\n",
    "                    action_2 = np.argmax(qtable[new_state])\n",
    "            else:\n",
    "                action_2 = env.sample()\n",
    "\n",
    "            if action == 4:\n",
    "                key_used = True\n",
    "\n",
    "            prob[state] += 1\n",
    "            state = new_state\n",
    "            action=action_2\n",
    "            if done == True: \n",
    "                break\n",
    "                \n",
    "    return prob/n"
   ]
  },
  {
   "cell_type": "code",
   "execution_count": 9,
   "metadata": {},
   "outputs": [],
   "source": [
    "def print_route(env,qtable):\n",
    "    route = np.copy(env.board)\n",
    "    state = env.reset()\n",
    "    step = 0\n",
    "    done = False\n",
    "    plt.figure(figsize=(10,10))\n",
    "    for step in range(max_steps):\n",
    "        action = np.argmax(qtable[state])\n",
    "        route[state] = 2 # color the path\n",
    "        new_state, reward, done = env.step(action)\n",
    "        if done:\n",
    "            if np.all(new_state == env.target):\n",
    "                print(\"Netrunner has reached android 🏆\")\n",
    "            else:\n",
    "                print(\"Netrunner has failed ☠️\")\n",
    "            print(\"Number of steps\", step)\n",
    "            break\n",
    "        state = new_state\n",
    "    plt.imshow(route)\n",
    "    plt.show()"
   ]
  },
  {
   "cell_type": "markdown",
   "metadata": {},
   "source": [
    "# No acid maze"
   ]
  },
  {
   "cell_type": "code",
   "execution_count": 10,
   "metadata": {},
   "outputs": [],
   "source": [
    "env = Env('normal')"
   ]
  },
  {
   "cell_type": "code",
   "execution_count": 11,
   "metadata": {},
   "outputs": [
    {
     "name": "stdout",
     "output_type": "stream",
     "text": [
      "Start point: [58 25] Target: [14 41]\n"
     ]
    },
    {
     "data": {
      "image/png": "[encoded data removed]",
      "text/plain": [
       "<Figure size 720x720 with 1 Axes>"
      ]
     },
     "metadata": {
      "needs_background": "light"
     },
     "output_type": "display_data"
    }
   ],
   "source": [
    "print(f'Start point: {env.state_start} Target: {env.target}')\n",
    "plt.figure(figsize=(10,10))\n",
    "plt.imshow(env.board)\n",
    "plt.show()"
   ]
  },
  {
   "cell_type": "code",
   "execution_count": 12,
   "metadata": {},
   "outputs": [],
   "source": [
    "props = {\n",
    "'total_episodes' : 10000,\n",
    "'learning_rate' : 0.7,\n",
    "'max_steps' : 400,\n",
    "'gamma' : 0.95,\n",
    "'epsilon' : 1.0,\n",
    "'max_epsilon' : 1.0,\n",
    "'min_epsilon' : 0.01,\n",
    "'decay_rate' : 0.005\n",
    "}\n",
    "max_steps=props['max_steps']"
   ]
  },
  {
   "cell_type": "markdown",
   "metadata": {},
   "source": [
    "# Q-learning"
   ]
  },
  {
   "cell_type": "code",
   "execution_count": 13,
   "metadata": {},
   "outputs": [
    {
     "name": "stdout",
     "output_type": "stream",
     "text": [
      "Progress: [####################] 100.0%\n"
     ]
    }
   ],
   "source": [
    "rewards,rewards_sum,qtable = train_agent_Q(env,props)"
   ]
  },
  {
   "cell_type": "code",
   "execution_count": 14,
   "metadata": {
    "scrolled": false
   },
   "outputs": [
    {
     "data": {
      "text/plain": [
       "[<matplotlib.lines.Line2D at 0x7f568d3b6390>]"
      ]
     },
     "execution_count": 14,
     "metadata": {},
     "output_type": "execute_result"
    },
    {
     "data": {
      "image/png": "[encoded data removed]",
      "text/plain": [
       "<Figure size 432x288 with 1 Axes>"
      ]
     },
     "metadata": {
      "needs_background": "light"
     },
     "output_type": "display_data"
    }
   ],
   "source": [
    "plt.plot(rewards)"
   ]
  },
  {
   "cell_type": "code",
   "execution_count": 15,
   "metadata": {},
   "outputs": [
    {
     "data": {
      "text/plain": [
       "[<matplotlib.lines.Line2D at 0x7f568d390e10>]"
      ]
     },
     "execution_count": 15,
     "metadata": {},
     "output_type": "execute_result"
    },
    {
     "data": {
      "image/png": "[encoded data removed]",
      "text/plain": [
       "<Figure size 432x288 with 1 Axes>"
      ]
     },
     "metadata": {
      "needs_background": "light"
     },
     "output_type": "display_data"
    }
   ],
   "source": [
    "plt.plot(rewards_sum)"
   ]
  },
  {
   "cell_type": "code",
   "execution_count": 16,
   "metadata": {},
   "outputs": [
    {
     "data": {
      "text/plain": [
       "<matplotlib.image.AxesImage at 0x7f568d2f1978>"
      ]
     },
     "execution_count": 16,
     "metadata": {},
     "output_type": "execute_result"
    },
    {
     "data": {
      "image/png": "[encoded data removed]",
      "text/plain": [
       "<Figure size 432x288 with 1 Axes>"
      ]
     },
     "metadata": {
      "needs_background": "light"
     },
     "output_type": "display_data"
    }
   ],
   "source": [
    "plt.imshow(np.max(qtable,axis=2))"
   ]
  },
  {
   "cell_type": "code",
   "execution_count": 17,
   "metadata": {
    "scrolled": true
   },
   "outputs": [
    {
     "name": "stdout",
     "output_type": "stream",
     "text": [
      "Progress: [####################] 99.9%\n"
     ]
    }
   ],
   "source": [
    "prob_1=move_agent_Q(env,props,1000)"
   ]
  },
  {
   "cell_type": "code",
   "execution_count": 18,
   "metadata": {},
   "outputs": [
    {
     "data": {
      "text/plain": [
       "<matplotlib.image.AxesImage at 0x7f568d2dd518>"
      ]
     },
     "execution_count": 18,
     "metadata": {},
     "output_type": "execute_result"
    },
    {
     "data": {
      "image/png": "[encoded data removed]",
      "text/plain": [
       "<Figure size 432x288 with 1 Axes>"
      ]
     },
     "metadata": {
      "needs_background": "light"
     },
     "output_type": "display_data"
    }
   ],
   "source": [
    "plt.imshow(prob_1)"
   ]
  },
  {
   "cell_type": "code",
   "execution_count": 19,
   "metadata": {},
   "outputs": [
    {
     "name": "stdout",
     "output_type": "stream",
     "text": [
      "Progress: [####################] 99.9%\n"
     ]
    }
   ],
   "source": [
    "prob_2=move_agent_Q(env,props,1000,qtable)"
   ]
  },
  {
   "cell_type": "code",
   "execution_count": 20,
   "metadata": {
    "scrolled": false
   },
   "outputs": [
    {
     "data": {
      "text/plain": [
       "<matplotlib.image.AxesImage at 0x7f568d1cf470>"
      ]
     },
     "execution_count": 20,
     "metadata": {},
     "output_type": "execute_result"
    },
    {
     "data": {
      "image/png": "[encoded data removed]",
      "text/plain": [
       "<Figure size 432x288 with 1 Axes>"
      ]
     },
     "metadata": {
      "needs_background": "light"
     },
     "output_type": "display_data"
    }
   ],
   "source": [
    "plt.imshow(prob_2)"
   ]
  },
  {
   "cell_type": "code",
   "execution_count": 21,
   "metadata": {
    "scrolled": false
   },
   "outputs": [
    {
     "name": "stdout",
     "output_type": "stream",
     "text": [
      "Netrunner has reached android 🏆\n",
      "Number of steps 81\n"
     ]
    },
    {
     "data": {
      "image/png": "[encoded data removed]",
      "text/plain": [
       "<Figure size 720x720 with 1 Axes>"
      ]
     },
     "metadata": {
      "needs_background": "light"
     },
     "output_type": "display_data"
    }
   ],
   "source": [
    "print_route(env,qtable)"
   ]
  },
  {
   "cell_type": "markdown",
   "metadata": {},
   "source": [
    "# Modified Props"
   ]
  },
  {
   "cell_type": "code",
   "execution_count": 22,
   "metadata": {},
   "outputs": [],
   "source": [
    "props = {\n",
    "'total_episodes' : 10000,\n",
    "'learning_rate' : 0.5,\n",
    "'max_steps' : 400,\n",
    "'gamma' : 0.90,\n",
    "'epsilon' : 1.0,\n",
    "'max_epsilon' : 1.0,\n",
    "'min_epsilon' : 0.01,\n",
    "'decay_rate' : 0.4\n",
    "}"
   ]
  },
  {
   "cell_type": "code",
   "execution_count": 23,
   "metadata": {},
   "outputs": [],
   "source": [
    "env = Env('normal')"
   ]
  },
  {
   "cell_type": "code",
   "execution_count": 24,
   "metadata": {},
   "outputs": [
    {
     "name": "stdout",
     "output_type": "stream",
     "text": [
      "Progress: [####################] 100.0%\n"
     ]
    }
   ],
   "source": [
    "rewards,rewards_sum,qtable = train_agent_Q(env,props)"
   ]
  },
  {
   "cell_type": "code",
   "execution_count": 25,
   "metadata": {},
   "outputs": [
    {
     "data": {
      "text/plain": [
       "[<matplotlib.lines.Line2D at 0x7f568d2539e8>]"
      ]
     },
     "execution_count": 25,
     "metadata": {},
     "output_type": "execute_result"
    },
    {
     "data": {
      "image/png": "[encoded data removed]",
      "text/plain": [
       "<Figure size 432x288 with 1 Axes>"
      ]
     },
     "metadata": {
      "needs_background": "light"
     },
     "output_type": "display_data"
    }
   ],
   "source": [
    "plt.plot(rewards)"
   ]
  },
  {
   "cell_type": "code",
   "execution_count": 26,
   "metadata": {
    "scrolled": true
   },
   "outputs": [
    {
     "data": {
      "text/plain": [
       "[<matplotlib.lines.Line2D at 0x7f568d4440b8>]"
      ]
     },
     "execution_count": 26,
     "metadata": {},
     "output_type": "execute_result"
    },
    {
     "data": {
      "image/png": "[encoded data removed]",
      "text/plain": [
       "<Figure size 432x288 with 1 Axes>"
      ]
     },
     "metadata": {
      "needs_background": "light"
     },
     "output_type": "display_data"
    }
   ],
   "source": [
    "plt.plot(rewards_sum)"
   ]
  },
  {
   "cell_type": "code",
   "execution_count": 27,
   "metadata": {},
   "outputs": [
    {
     "data": {
      "text/plain": [
       "<matplotlib.image.AxesImage at 0x7f568d060a20>"
      ]
     },
     "execution_count": 27,
     "metadata": {},
     "output_type": "execute_result"
    },
    {
     "data": {
      "image/png": "[encoded data removed]",
      "text/plain": [
       "<Figure size 432x288 with 1 Axes>"
      ]
     },
     "metadata": {
      "needs_background": "light"
     },
     "output_type": "display_data"
    }
   ],
   "source": [
    "plt.imshow(np.max(qtable,axis=2))"
   ]
  },
  {
   "cell_type": "code",
   "execution_count": 28,
   "metadata": {
    "scrolled": true
   },
   "outputs": [
    {
     "name": "stdout",
     "output_type": "stream",
     "text": [
      "Progress: [####################] 99.9%\n"
     ]
    }
   ],
   "source": [
    "prob_1=move_agent_Q(env,props,1000)"
   ]
  },
  {
   "cell_type": "code",
   "execution_count": 29,
   "metadata": {},
   "outputs": [
    {
     "data": {
      "text/plain": [
       "<matplotlib.image.AxesImage at 0x7f568d13a908>"
      ]
     },
     "execution_count": 29,
     "metadata": {},
     "output_type": "execute_result"
    },
    {
     "data": {
      "image/png": "[encoded data removed]",
      "text/plain": [
       "<Figure size 432x288 with 1 Axes>"
      ]
     },
     "metadata": {
      "needs_background": "light"
     },
     "output_type": "display_data"
    }
   ],
   "source": [
    "plt.imshow(prob_1)"
   ]
  },
  {
   "cell_type": "code",
   "execution_count": 30,
   "metadata": {},
   "outputs": [
    {
     "name": "stdout",
     "output_type": "stream",
     "text": [
      "Progress: [####################] 99.9%\n"
     ]
    }
   ],
   "source": [
    "prob_2=move_agent_Q(env,props,1000,qtable)"
   ]
  },
  {
   "cell_type": "code",
   "execution_count": 31,
   "metadata": {
    "scrolled": false
   },
   "outputs": [
    {
     "data": {
      "text/plain": [
       "<matplotlib.image.AxesImage at 0x7f568cfacd30>"
      ]
     },
     "execution_count": 31,
     "metadata": {},
     "output_type": "execute_result"
    },
    {
     "data": {
      "image/png": "[encoded data removed]",
      "text/plain": [
       "<Figure size 432x288 with 1 Axes>"
      ]
     },
     "metadata": {
      "needs_background": "light"
     },
     "output_type": "display_data"
    }
   ],
   "source": [
    "plt.imshow(prob_2)"
   ]
  },
  {
   "cell_type": "code",
   "execution_count": 32,
   "metadata": {},
   "outputs": [
    {
     "data": {
      "text/plain": [
       "<matplotlib.image.AxesImage at 0x7f568cfce4a8>"
      ]
     },
     "execution_count": 32,
     "metadata": {},
     "output_type": "execute_result"
    },
    {
     "data": {
      "image/png": "[encoded data removed]",
      "text/plain": [
       "<Figure size 432x288 with 1 Axes>"
      ]
     },
     "metadata": {
      "needs_background": "light"
     },
     "output_type": "display_data"
    }
   ],
   "source": [
    "plt.imshow(np.max(qtable,axis=2))"
   ]
  },
  {
   "cell_type": "code",
   "execution_count": 33,
   "metadata": {
    "scrolled": false
   },
   "outputs": [
    {
     "name": "stdout",
     "output_type": "stream",
     "text": [
      "Netrunner has reached android 🏆\n",
      "Number of steps 81\n"
     ]
    },
    {
     "data": {
      "image/png": "[encoded data removed]",
      "text/plain": [
       "<Figure size 720x720 with 1 Axes>"
      ]
     },
     "metadata": {
      "needs_background": "light"
     },
     "output_type": "display_data"
    }
   ],
   "source": [
    "print_route(env,qtable)"
   ]
  },
  {
   "cell_type": "markdown",
   "metadata": {},
   "source": [
    "# SARSA"
   ]
  },
  {
   "cell_type": "code",
   "execution_count": 34,
   "metadata": {},
   "outputs": [],
   "source": [
    "props = {\n",
    "'total_episodes' : 10000,\n",
    "'learning_rate' : 0.7,\n",
    "'max_steps' : 800,\n",
    "'gamma' : 0.95,\n",
    "'epsilon' : 1.0,\n",
    "'max_epsilon' : 1.0,\n",
    "'min_epsilon' : 0.01,\n",
    "'decay_rate' : 0.005\n",
    "}"
   ]
  },
  {
   "cell_type": "code",
   "execution_count": 35,
   "metadata": {},
   "outputs": [
    {
     "name": "stdout",
     "output_type": "stream",
     "text": [
      "Progress: [####################] 100.0%\n"
     ]
    }
   ],
   "source": [
    "rewards,rewards_sum,qtable = train_agent_Sarsa(env,props)"
   ]
  },
  {
   "cell_type": "code",
   "execution_count": 36,
   "metadata": {},
   "outputs": [
    {
     "data": {
      "text/plain": [
       "[<matplotlib.lines.Line2D at 0x7f568d120080>]"
      ]
     },
     "execution_count": 36,
     "metadata": {},
     "output_type": "execute_result"
    },
    {
     "data": {
      "image/png": "[encoded data removed]",
      "text/plain": [
       "<Figure size 432x288 with 1 Axes>"
      ]
     },
     "metadata": {
      "needs_background": "light"
     },
     "output_type": "display_data"
    }
   ],
   "source": [
    "plt.plot(rewards)"
   ]
  },
  {
   "cell_type": "code",
   "execution_count": 37,
   "metadata": {
    "scrolled": true
   },
   "outputs": [
    {
     "data": {
      "text/plain": [
       "[<matplotlib.lines.Line2D at 0x7f568d0affd0>]"
      ]
     },
     "execution_count": 37,
     "metadata": {},
     "output_type": "execute_result"
    },
    {
     "data": {
      "image/png": "[encoded data removed]",
      "text/plain": [
       "<Figure size 432x288 with 1 Axes>"
      ]
     },
     "metadata": {
      "needs_background": "light"
     },
     "output_type": "display_data"
    }
   ],
   "source": [
    "plt.plot(rewards_sum)"
   ]
  },
  {
   "cell_type": "code",
   "execution_count": 38,
   "metadata": {},
   "outputs": [
    {
     "data": {
      "text/plain": [
       "<matplotlib.image.AxesImage at 0x7f568ce4cfd0>"
      ]
     },
     "execution_count": 38,
     "metadata": {},
     "output_type": "execute_result"
    },
    {
     "data": {
      "image/png": "[encoded data removed]",
      "text/plain": [
       "<Figure size 432x288 with 1 Axes>"
      ]
     },
     "metadata": {
      "needs_background": "light"
     },
     "output_type": "display_data"
    }
   ],
   "source": [
    "plt.imshow(np.max(qtable,axis=2))"
   ]
  },
  {
   "cell_type": "code",
   "execution_count": 39,
   "metadata": {
    "scrolled": true
   },
   "outputs": [
    {
     "name": "stdout",
     "output_type": "stream",
     "text": [
      "Progress: [####################] 99.9%\n"
     ]
    }
   ],
   "source": [
    "prob_1=move_agent_sarsa(env,props,1000)"
   ]
  },
  {
   "cell_type": "code",
   "execution_count": 40,
   "metadata": {},
   "outputs": [
    {
     "data": {
      "text/plain": [
       "<matplotlib.image.AxesImage at 0x7f568cdb8438>"
      ]
     },
     "execution_count": 40,
     "metadata": {},
     "output_type": "execute_result"
    },
    {
     "data": {
      "image/png": "[encoded data removed]",
      "text/plain": [
       "<Figure size 432x288 with 1 Axes>"
      ]
     },
     "metadata": {
      "needs_background": "light"
     },
     "output_type": "display_data"
    }
   ],
   "source": [
    "plt.imshow(prob_1)"
   ]
  },
  {
   "cell_type": "code",
   "execution_count": 41,
   "metadata": {},
   "outputs": [
    {
     "ename": "UnboundLocalError",
     "evalue": "local variable 'new_state' referenced before assignment",
     "output_type": "error",
     "traceback": [
      "\u001b[0;31m---------------------------------------------------------------------------\u001b[0m",
      "\u001b[0;31mUnboundLocalError\u001b[0m                         Traceback (most recent call last)",
      "\u001b[0;32m<ipython-input-41-a44083275d16>\u001b[0m in \u001b[0;36m<module>\u001b[0;34m\u001b[0m\n\u001b[0;32m----> 1\u001b[0;31m \u001b[0mprob_2\u001b[0m\u001b[0;34m=\u001b[0m\u001b[0mmove_agent_sarsa\u001b[0m\u001b[0;34m(\u001b[0m\u001b[0menv\u001b[0m\u001b[0;34m,\u001b[0m\u001b[0mprops\u001b[0m\u001b[0;34m,\u001b[0m\u001b[0;36m1000\u001b[0m\u001b[0;34m,\u001b[0m\u001b[0mqtable\u001b[0m\u001b[0;34m)\u001b[0m\u001b[0;34m\u001b[0m\u001b[0;34m\u001b[0m\u001b[0m\n\u001b[0m",
      "\u001b[0;32m<ipython-input-8-d8b1992799f8>\u001b[0m in \u001b[0;36mmove_agent_sarsa\u001b[0;34m(env, props, n, table)\u001b[0m\n\u001b[1;32m     12\u001b[0m             \u001b[0maction\u001b[0m \u001b[0;34m=\u001b[0m \u001b[0mnp\u001b[0m\u001b[0;34m.\u001b[0m\u001b[0margmax\u001b[0m\u001b[0;34m(\u001b[0m\u001b[0mqtable\u001b[0m\u001b[0;34m[\u001b[0m\u001b[0mnew_state\u001b[0m\u001b[0;34m]\u001b[0m\u001b[0;34m[\u001b[0m\u001b[0;34m:\u001b[0m\u001b[0;36m4\u001b[0m\u001b[0;34m]\u001b[0m\u001b[0;34m)\u001b[0m\u001b[0;34m\u001b[0m\u001b[0;34m\u001b[0m\u001b[0m\n\u001b[1;32m     13\u001b[0m         \u001b[0;32melse\u001b[0m\u001b[0;34m:\u001b[0m\u001b[0;34m\u001b[0m\u001b[0;34m\u001b[0m\u001b[0m\n\u001b[0;32m---> 14\u001b[0;31m             \u001b[0maction\u001b[0m \u001b[0;34m=\u001b[0m \u001b[0mnp\u001b[0m\u001b[0;34m.\u001b[0m\u001b[0margmax\u001b[0m\u001b[0;34m(\u001b[0m\u001b[0mqtable\u001b[0m\u001b[0;34m[\u001b[0m\u001b[0mnew_state\u001b[0m\u001b[0;34m]\u001b[0m\u001b[0;34m)\u001b[0m\u001b[0;34m\u001b[0m\u001b[0;34m\u001b[0m\u001b[0m\n\u001b[0m\u001b[1;32m     15\u001b[0m     \u001b[0;32melse\u001b[0m\u001b[0;34m:\u001b[0m\u001b[0;34m\u001b[0m\u001b[0;34m\u001b[0m\u001b[0m\n\u001b[1;32m     16\u001b[0m         \u001b[0maction\u001b[0m \u001b[0;34m=\u001b[0m \u001b[0menv\u001b[0m\u001b[0;34m.\u001b[0m\u001b[0msample\u001b[0m\u001b[0;34m(\u001b[0m\u001b[0;34m)\u001b[0m\u001b[0;34m\u001b[0m\u001b[0;34m\u001b[0m\u001b[0m\n",
      "\u001b[0;31mUnboundLocalError\u001b[0m: local variable 'new_state' referenced before assignment"
     ]
    }
   ],
   "source": [
    "prob_2=move_agent_sarsa(env,props,1000,qtable)"
   ]
  },
  {
   "cell_type": "code",
   "execution_count": null,
   "metadata": {
    "scrolled": false
   },
   "outputs": [],
   "source": [
    "plt.imshow(prob_2)"
   ]
  },
  {
   "cell_type": "code",
   "execution_count": null,
   "metadata": {},
   "outputs": [],
   "source": [
    "plt.imshow(np.max(qtable,axis=2))"
   ]
  },
  {
   "cell_type": "code",
   "execution_count": null,
   "metadata": {},
   "outputs": [],
   "source": [
    "print_route(env,qtable)"
   ]
  },
  {
   "cell_type": "markdown",
   "metadata": {},
   "source": [
    "# Acid maze"
   ]
  },
  {
   "cell_type": "code",
   "execution_count": null,
   "metadata": {},
   "outputs": [],
   "source": [
    "env = Env('acid')"
   ]
  },
  {
   "cell_type": "code",
   "execution_count": null,
   "metadata": {},
   "outputs": [],
   "source": [
    "print(f'Start point: {env.state_start} Target: {env.target}')\n",
    "plt.figure(figsize=(10,10))\n",
    "plt.imshow(env.board)\n",
    "plt.show()"
   ]
  },
  {
   "cell_type": "code",
   "execution_count": null,
   "metadata": {},
   "outputs": [],
   "source": [
    "props = {\n",
    "'total_episodes' : 15000,\n",
    "'learning_rate' : 0.7,\n",
    "'max_steps' : 400,\n",
    "'gamma' : 0.95,\n",
    "'epsilon' : 1.0,\n",
    "'max_epsilon' : 1.0,\n",
    "'min_epsilon' : 0.01,\n",
    "'decay_rate' : 0.005\n",
    "}\n",
    "max_steps=props['max_steps']"
   ]
  },
  {
   "cell_type": "code",
   "execution_count": null,
   "metadata": {},
   "outputs": [],
   "source": [
    "rewards,rewards_sum,qtable = train_agent_Q(env,props)"
   ]
  },
  {
   "cell_type": "code",
   "execution_count": null,
   "metadata": {},
   "outputs": [],
   "source": [
    "plt.plot(rewards)"
   ]
  },
  {
   "cell_type": "code",
   "execution_count": null,
   "metadata": {
    "scrolled": true
   },
   "outputs": [],
   "source": [
    "plt.plot(rewards_sum)"
   ]
  },
  {
   "cell_type": "code",
   "execution_count": null,
   "metadata": {},
   "outputs": [],
   "source": [
    "plt.imshow(np.max(qtable,axis=2))"
   ]
  },
  {
   "cell_type": "code",
   "execution_count": null,
   "metadata": {
    "scrolled": true
   },
   "outputs": [],
   "source": [
    "prob_1=move_agent_Q(env,props,1000)"
   ]
  },
  {
   "cell_type": "code",
   "execution_count": null,
   "metadata": {},
   "outputs": [],
   "source": [
    "plt.imshow(prob_1)"
   ]
  },
  {
   "cell_type": "code",
   "execution_count": null,
   "metadata": {},
   "outputs": [],
   "source": [
    "prob_2=move_agent_Q(env,props,1000,qtable)"
   ]
  },
  {
   "cell_type": "code",
   "execution_count": null,
   "metadata": {
    "scrolled": false
   },
   "outputs": [],
   "source": [
    "plt.imshow(prob_2)"
   ]
  },
  {
   "cell_type": "code",
   "execution_count": null,
   "metadata": {},
   "outputs": [],
   "source": [
    "plt.imshow(np.max(qtable,axis=2))"
   ]
  },
  {
   "cell_type": "code",
   "execution_count": null,
   "metadata": {},
   "outputs": [],
   "source": [
    "print_route(env,qtable)"
   ]
  },
  {
   "cell_type": "markdown",
   "metadata": {},
   "source": [
    "# SARSA"
   ]
  },
  {
   "cell_type": "code",
   "execution_count": null,
   "metadata": {},
   "outputs": [],
   "source": [
    "props = {\n",
    "'total_episodes' : 15000,\n",
    "'learning_rate' : 0.68,\n",
    "'max_steps' : 900,\n",
    "'gamma' : 0.99,\n",
    "'epsilon' : 1.0,\n",
    "'max_epsilon' : 1.0,\n",
    "'min_epsilon' : 0.01,\n",
    "'decay_rate' : 0.005\n",
    "}\n",
    "max_steps=props['max_steps']"
   ]
  },
  {
   "cell_type": "code",
   "execution_count": null,
   "metadata": {},
   "outputs": [],
   "source": [
    "rewards,rewards_sum,qtable = train_agent_Sarsa(env,props)"
   ]
  },
  {
   "cell_type": "code",
   "execution_count": null,
   "metadata": {},
   "outputs": [],
   "source": [
    "plt.plot(rewards)"
   ]
  },
  {
   "cell_type": "code",
   "execution_count": null,
   "metadata": {
    "scrolled": true
   },
   "outputs": [],
   "source": [
    "plt.plot(rewards_sum)"
   ]
  },
  {
   "cell_type": "code",
   "execution_count": null,
   "metadata": {},
   "outputs": [],
   "source": [
    "plt.imshow(np.max(qtable,axis=2))"
   ]
  },
  {
   "cell_type": "code",
   "execution_count": null,
   "metadata": {
    "scrolled": true
   },
   "outputs": [],
   "source": [
    "prob_1=move_agent_sarsa(env,props,1000)"
   ]
  },
  {
   "cell_type": "code",
   "execution_count": null,
   "metadata": {},
   "outputs": [],
   "source": [
    "plt.imshow(prob_1)"
   ]
  },
  {
   "cell_type": "code",
   "execution_count": null,
   "metadata": {},
   "outputs": [],
   "source": [
    "prob_2=move_agent_sarsa(env,props,1000,qtable)"
   ]
  },
  {
   "cell_type": "code",
   "execution_count": null,
   "metadata": {
    "scrolled": false
   },
   "outputs": [],
   "source": [
    "plt.imshow(prob_2)"
   ]
  },
  {
   "cell_type": "code",
   "execution_count": null,
   "metadata": {},
   "outputs": [],
   "source": [
    "plt.imshow(np.max(qtable,axis=2))"
   ]
  },
  {
   "cell_type": "code",
   "execution_count": null,
   "metadata": {},
   "outputs": [],
   "source": [
    "print_route(env,qtable)"
   ]
  },
  {
   "cell_type": "markdown",
   "metadata": {},
   "source": [
    "# With Door"
   ]
  },
  {
   "cell_type": "code",
   "execution_count": null,
   "metadata": {},
   "outputs": [],
   "source": [
    "props = {\n",
    "'total_episodes' : 10000,\n",
    "'learning_rate' : 0.7,\n",
    "'max_steps' : 600,\n",
    "'gamma' : 0.95,\n",
    "'epsilon' : 1.0,\n",
    "'max_epsilon' : 1.0,\n",
    "'min_epsilon' : 0.01,\n",
    "'decay_rate' : 0.0001\n",
    "}"
   ]
  },
  {
   "cell_type": "code",
   "execution_count": null,
   "metadata": {},
   "outputs": [],
   "source": [
    "env = Env('door')"
   ]
  },
  {
   "cell_type": "markdown",
   "metadata": {},
   "source": [
    "# Q-learning"
   ]
  },
  {
   "cell_type": "code",
   "execution_count": null,
   "metadata": {
    "scrolled": true
   },
   "outputs": [],
   "source": [
    "rewards,rewards_sum,qtable = train_agent_Q(env,props,door=True)"
   ]
  },
  {
   "cell_type": "code",
   "execution_count": null,
   "metadata": {},
   "outputs": [],
   "source": [
    "plt.plot(rewards)"
   ]
  },
  {
   "cell_type": "code",
   "execution_count": null,
   "metadata": {
    "scrolled": true
   },
   "outputs": [],
   "source": [
    "plt.plot(rewards_sum)"
   ]
  }
 ],
 "metadata": {
  "kernelspec": {
   "display_name": "Python 3",
   "language": "python",
   "name": "python3"
  },
  "language_info": {
   "codemirror_mode": {
    "name": "ipython",
    "version": 3
   },
   "file_extension": ".py",
   "mimetype": "text/x-python",
   "name": "python",
   "nbconvert_exporter": "python",
   "pygments_lexer": "ipython3",
   "version": "3.7.3"
  }
 },
 "nbformat": 4,
 "nbformat_minor": 2
}
