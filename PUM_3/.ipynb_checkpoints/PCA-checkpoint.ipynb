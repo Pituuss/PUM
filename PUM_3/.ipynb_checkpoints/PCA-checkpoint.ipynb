{
 "cells": [
  {
   "cell_type": "code",
   "execution_count": null,
   "metadata": {},
   "outputs": [],
   "source": [
    "import numpy as np\n",
    "import matplotlib.pyplot as plt\n",
    "import itertools\n",
    "from sklearn.decomposition import PCA\n",
    "from sklearn.decomposition import KernelPCA\n",
    "from mpl_toolkits.mplot3d import Axes3D\n",
    "# %matplotlib notebook"
   ]
  },
  {
   "cell_type": "markdown",
   "metadata": {},
   "source": [
    "# A"
   ]
  },
  {
   "cell_type": "code",
   "execution_count": null,
   "metadata": {},
   "outputs": [],
   "source": [
    "color=np.array(['b','r','g','y'])"
   ]
  },
  {
   "cell_type": "code",
   "execution_count": null,
   "metadata": {},
   "outputs": [],
   "source": [
    "thr = 2\n",
    "size = 50\n",
    "def generate_points(dim,size):\n",
    "    X = np.random.uniform(low=0,high=size,size=(3500*dim,dim))\n",
    "    y = np.zeros(X.shape[0]).astype(int)\n",
    "    k_mask = np.sum(np.square(size/2 - X[:]),axis=1) < np.square(size/2)\n",
    "    edg = ((np.abs(X - size) < 5).sum(axis=1) + (X < 5).sum(axis=1)) >= dim - 1\n",
    "    y[edg] = 3\n",
    "    y[k_mask] = 1\n",
    "    vertex = np.array(list(itertools.product([0,size],repeat=dim)))\n",
    "    for v in vertex:\n",
    "        y[(np.abs(X-v) < 10).all(axis=1)] = 2\n",
    "    return X,y"
   ]
  },
  {
   "cell_type": "code",
   "execution_count": null,
   "metadata": {
    "scrolled": false
   },
   "outputs": [],
   "source": [
    "X,y = generate_points(2,50)\n",
    "fig, ax = plt.subplots(figsize=(20,20))\n",
    "ax.scatter(X[:,0],X[:,1],c=color[y])"
   ]
  },
  {
   "cell_type": "code",
   "execution_count": null,
   "metadata": {},
   "outputs": [],
   "source": [
    "fig, ax = plt.subplots(figsize=(20,20))\n",
    "ax = fig.add_subplot(111, projection='3d')\n",
    "X,y = generate_points(3,50)\n",
    "ax.scatter(X[:,0],X[:,1],X[:,2],c=color[y])\n",
    "plt.show()"
   ]
  },
  {
   "cell_type": "markdown",
   "metadata": {},
   "source": [
    "Powyżej prezentacja działąnia generatora bez żadnych modyfikacji"
   ]
  },
  {
   "cell_type": "code",
   "execution_count": null,
   "metadata": {},
   "outputs": [],
   "source": [
    "dims = [2,3,4,5,7,13]"
   ]
  },
  {
   "cell_type": "code",
   "execution_count": null,
   "metadata": {
    "scrolled": false
   },
   "outputs": [],
   "source": [
    "pca = PCA(n_components=2)\n",
    "for d in dims:\n",
    "    fig, ax = plt.subplots(figsize=(20,20))\n",
    "    X,y = generate_points(d,50)\n",
    "    pca.fit(X)\n",
    "    X1 = pca.transform(X)\n",
    "    ax.scatter(X1[:,0],X1[:,1],c=color[y])\n",
    "    plt.show()"
   ]
  },
  {
   "cell_type": "markdown",
   "metadata": {},
   "source": [
    "Można łatwo zauważyć żę wraz ze wzrostem wymiaru, za cień rzucany na pląszczyznę 2D coraz bardziej jest odpowiedzialne wnetrze hipersześcianu. Kula wewnątrz jak i inne detale zanikają."
   ]
  },
  {
   "cell_type": "code",
   "execution_count": null,
   "metadata": {},
   "outputs": [],
   "source": [
    "dims = [3,4,5,7,13]"
   ]
  },
  {
   "cell_type": "code",
   "execution_count": null,
   "metadata": {
    "scrolled": false
   },
   "outputs": [],
   "source": [
    "pca = PCA(n_components=3)\n",
    "for d in dims:\n",
    "    fig, ax = plt.subplots(figsize=(20,20))\n",
    "    ax = fig.add_subplot(111, projection='3d')\n",
    "    X,y = generate_points(d,50)\n",
    "    pca.fit(X)\n",
    "    X1 = pca.transform(X)\n",
    "    ax.scatter(X1[:,0],X1[:,1],X1[:,2],c=color[y])\n",
    "    plt.show()"
   ]
  },
  {
   "cell_type": "markdown",
   "metadata": {},
   "source": [
    "Obserwacje analogiczne jak w przypadku płaszczyzny 2D."
   ]
  },
  {
   "cell_type": "markdown",
   "metadata": {},
   "source": [
    "# B"
   ]
  },
  {
   "cell_type": "code",
   "execution_count": null,
   "metadata": {},
   "outputs": [],
   "source": [
    "colors = np.array(['y','g','r','b'])\n",
    "markers = np.array(['s', 'x', 'o', '^'])"
   ]
  },
  {
   "cell_type": "code",
   "execution_count": null,
   "metadata": {},
   "outputs": [],
   "source": [
    "yellow_count = 256\n",
    "red_count = 256\n",
    "blue_count = 256\n",
    "green_count = 256\n",
    "\n",
    "yellow_x_1 = np.random.normal(0, 4, yellow_count)* 3 \n",
    "yellow_y_1 = np.random.normal(0, 1, yellow_count) + yellow_x_1/4\n",
    "yellow_x_2 = np.random.normal(0, 4, yellow_count)* 3 + 20\n",
    "yellow_y_2 = np.random.normal(0, 1, yellow_count) + yellow_x_2/4 + 20\n",
    "yellow = np.concatenate((np.concatenate((yellow_x_1,yellow_x_2),axis=0).reshape(-1,1),np.concatenate((yellow_y_1,yellow_y_2),axis=0).reshape(-1,1)),axis=1)\n",
    "\n",
    "green_x_1 = np.random.normal(0, 2, yellow_count)* 2 - 18\n",
    "green_y_1 = np.random.normal(0, 2, yellow_count) + green_x_1 + 23\n",
    "green_x_2 = np.random.normal(0, 2, yellow_count)* 2 + 37\n",
    "green_y_2 = np.random.normal(0, 2, yellow_count) + green_x_2 - 18\n",
    "green = np.concatenate((np.concatenate((green_x_1,green_x_2),axis=0).reshape(-1,1),np.concatenate((green_y_1,green_y_2),axis=0).reshape(-1,1)),axis=1)\n",
    "\n",
    "\n",
    "red_x_1 = np.random.normal(0, 4, yellow_count)* 2 + 5\n",
    "red_y_1 = np.random.normal(0, 1, yellow_count)+ red_x_1/4 + 4\n",
    "red_x_2 = np.random.normal(0, 4, yellow_count)* 2 + 15\n",
    "red_y_2 = np.random.normal(0, 1, yellow_count)+ red_x_2/4 + 16\n",
    "\n",
    "red_x_3 = np.random.normal(0, 2, yellow_count)*2 - 7\n",
    "red_y_3 = np.random.normal(0, 2, yellow_count) + red_x_3 + 15\n",
    "red_x_4 = np.random.normal(0, 2, yellow_count)*2 + 28\n",
    "red_y_4 = np.random.normal(0, 2, yellow_count) + red_x_4  - 10\n",
    "red = np.concatenate((np.concatenate((red_x_1,red_x_2,red_x_3,red_x_4),axis=0).reshape(-1,1),np.concatenate((red_y_1,red_y_2,red_y_3,red_y_4),axis=0).reshape(-1,1)),axis=1)\n",
    "\n",
    "blue_x = np.random.normal(0, 2, yellow_count)*2 + 10\n",
    "blue_y= np.random.normal(0, 1, yellow_count)*2 + blue_x /4 + 10\n",
    "blue = np.concatenate((blue_x.reshape(-1,1),blue_y.reshape(-1,1)),axis=1)"
   ]
  },
  {
   "cell_type": "code",
   "execution_count": null,
   "metadata": {},
   "outputs": [],
   "source": [
    "yellow_label = np.ones(yellow.shape[0]).reshape(-1,1) * 0\n",
    "yellow = np.concatenate((yellow,yellow_label),axis=1)\n",
    "\n",
    "green_label = np.ones(green.shape[0]).reshape(-1,1)\n",
    "green = np.concatenate((green,green_label),axis=1)\n",
    "\n",
    "red_label = np.ones(red.shape[0]).reshape(-1,1) * 2\n",
    "red = np.concatenate((red,red_label),axis=1)\n",
    "\n",
    "blue_label = np.ones(blue.shape[0]).reshape(-1,1) * 3\n",
    "blue = np.concatenate((blue,blue_label),axis=1)\n",
    "\n",
    "points_set = np.concatenate((yellow,green,red,blue))"
   ]
  },
  {
   "cell_type": "code",
   "execution_count": null,
   "metadata": {},
   "outputs": [],
   "source": [
    "fig, ax = plt.subplots(figsize=(20,20))\n",
    "plt.xlim(-60,60)\n",
    "plt.ylim(-60,60)\n",
    "for (x,y,c) in points_set:\n",
    "    c=int(c)\n",
    "    ax.scatter(x,y,c=colors[c],marker=markers[c])"
   ]
  },
  {
   "cell_type": "markdown",
   "metadata": {},
   "source": [
    "Odtworzenie zniekształconych danych"
   ]
  },
  {
   "cell_type": "code",
   "execution_count": null,
   "metadata": {},
   "outputs": [],
   "source": [
    "X = points_set[:,:2]\n",
    "Y = points_set[:,2].reshape(-1,1)\n",
    "X.shape"
   ]
  },
  {
   "cell_type": "code",
   "execution_count": null,
   "metadata": {},
   "outputs": [],
   "source": [
    "pca = PCA(n_components=2)\n",
    "pca.fit(X)\n",
    "X1 = pca.transform(X)\n",
    "\n",
    "default_data_ofset = pca.mean_"
   ]
  },
  {
   "cell_type": "code",
   "execution_count": null,
   "metadata": {},
   "outputs": [],
   "source": [
    "fig, ax = plt.subplots(figsize=(20,20))\n",
    "plt.xlim(-60,60)\n",
    "plt.ylim(-60,60)\n",
    "origin = (0,0)\n",
    "for (x,y,c) in points_set:\n",
    "    c=int(c)\n",
    "    ax.scatter(x,y,c=colors[c],marker=markers[c])\n",
    "    \n",
    "for length, vector in zip(pca.explained_variance_, pca.components_):\n",
    "    v = vector * np.sqrt(length)\n",
    "    end = pca.mean_ + v\n",
    "    plt.arrow(*pca.mean_, *end, color='mediumspringgreen',width=0.4)"
   ]
  },
  {
   "cell_type": "code",
   "execution_count": null,
   "metadata": {},
   "outputs": [],
   "source": [
    "fig, ax = plt.subplots(figsize=(20,20))\n",
    "plt.xlim(-60,60)\n",
    "plt.ylim(-60,60)\n",
    "for (x,y,c) in np.concatenate((X1,Y),axis=1):\n",
    "    c=int(c)\n",
    "    ax.scatter(x,y,c=colors[c],marker=markers[c])\n",
    "\n",
    "pca.fit(X1)\n",
    "for length, vector in zip(pca.explained_variance_, pca.components_):\n",
    "    v = vector * np.sqrt(length)\n",
    "    end = pca.mean_ + v\n",
    "    plt.arrow(*pca.mean_, *end, color='mediumspringgreen',width=0.4)"
   ]
  },
  {
   "cell_type": "markdown",
   "metadata": {},
   "source": [
    "PCA nie doś że znalazło lepszą bazę to jeszcze wyśrodkowało dane"
   ]
  },
  {
   "cell_type": "code",
   "execution_count": null,
   "metadata": {},
   "outputs": [],
   "source": [
    "kpca = KernelPCA(n_components=2,kernel='cosine')\n",
    "kpca.fit(X)\n",
    "X2 = kpca.transform(X)"
   ]
  },
  {
   "cell_type": "code",
   "execution_count": null,
   "metadata": {},
   "outputs": [],
   "source": [
    "fig, ax = plt.subplots(figsize=(20,20))\n",
    "for (x,y,c) in np.concatenate((X2,Y.reshape(-1,1)),axis=1):\n",
    "    c=int(c)\n",
    "    ax.scatter(x,y,c=colors[c],marker=markers[c])"
   ]
  },
  {
   "cell_type": "markdown",
   "metadata": {},
   "source": [
    "Cosine KernelPCA dla niewyśrodkowanych danych"
   ]
  },
  {
   "cell_type": "code",
   "execution_count": null,
   "metadata": {},
   "outputs": [],
   "source": [
    "X_c = X - default_data_ofset\n",
    "kpca.fit(X_c)\n",
    "X2_1 = kpca.transform(X_c)\n",
    "pca.mean_"
   ]
  },
  {
   "cell_type": "code",
   "execution_count": null,
   "metadata": {},
   "outputs": [],
   "source": [
    "fig, ax = plt.subplots(figsize=(20,20))\n",
    "plt.xlim(-60,60)\n",
    "plt.ylim(-60,60)\n",
    "for (x,y,c) in np.concatenate((X_c,Y),axis=1):\n",
    "    c=int(c)\n",
    "    ax.scatter(x,y,c=colors[c],marker=markers[c])"
   ]
  },
  {
   "cell_type": "markdown",
   "metadata": {},
   "source": [
    "Wyśrodkowane dane"
   ]
  },
  {
   "cell_type": "code",
   "execution_count": null,
   "metadata": {},
   "outputs": [],
   "source": [
    "fig, ax = plt.subplots(figsize=(20,20))\n",
    "for (x,y,c) in np.concatenate((X2_1,Y.reshape(-1,1)),axis=1):\n",
    "    c=int(c)\n",
    "    ax.scatter(x,y,c=colors[c],marker=markers[c])"
   ]
  },
  {
   "cell_type": "markdown",
   "metadata": {},
   "source": [
    "Cosine KernelPCA dla wyśrodkowahych danych. Widać że rozłożenie danych na okręgu jest równomierne w przeciwieństwie do niewyśrodkowanych danych."
   ]
  },
  {
   "cell_type": "code",
   "execution_count": null,
   "metadata": {},
   "outputs": [],
   "source": [
    "kpca = KernelPCA(n_components=2,kernel='rbf',gamma=0.00001)\n",
    "kpca.fit(X_c)\n",
    "X3 = kpca.transform(X)"
   ]
  },
  {
   "cell_type": "code",
   "execution_count": null,
   "metadata": {},
   "outputs": [],
   "source": [
    "fig, ax = plt.subplots(figsize=(20,20))\n",
    "for (x,y,c) in np.concatenate((X3,Y.reshape(-1,1)),axis=1):\n",
    "    c=int(c)\n",
    "    ax.scatter(x,y,c=colors[c],marker=markers[c])"
   ]
  },
  {
   "cell_type": "code",
   "execution_count": null,
   "metadata": {},
   "outputs": [],
   "source": [
    "kpca = KernelPCA(n_components=2,kernel='rbf',gamma=0.0008)\n",
    "kpca.fit(X_c)\n",
    "X3_1 = kpca.transform(X)"
   ]
  },
  {
   "cell_type": "code",
   "execution_count": null,
   "metadata": {
    "scrolled": false
   },
   "outputs": [],
   "source": [
    "fig, ax = plt.subplots(figsize=(20,20))\n",
    "for (x,y,c) in np.concatenate((X3_1,Y.reshape(-1,1)),axis=1):\n",
    "    c=int(c)\n",
    "    ax.scatter(x,y,c=colors[c],marker=markers[c])"
   ]
  },
  {
   "cell_type": "markdown",
   "metadata": {},
   "source": [
    "RBF KernelPCA dla różnych wartości gammy daje bardzo różne wyniki"
   ]
  }
 ],
 "metadata": {
  "kernelspec": {
   "display_name": "Python 3",
   "language": "python",
   "name": "python3"
  },
  "language_info": {
   "codemirror_mode": {
    "name": "ipython",
    "version": 3
   },
   "file_extension": ".py",
   "mimetype": "text/x-python",
   "name": "python",
   "nbconvert_exporter": "python",
   "pygments_lexer": "ipython3",
   "version": "3.7.3"
  }
 },
 "nbformat": 4,
 "nbformat_minor": 2
}
